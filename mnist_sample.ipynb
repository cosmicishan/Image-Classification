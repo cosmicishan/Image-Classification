{
  "nbformat": 4,
  "nbformat_minor": 0,
  "metadata": {
    "colab": {
      "name": "mnist_sample",
      "provenance": [],
      "authorship_tag": "ABX9TyNlGJ/YWHZB08SPqCwAJnNh",
      "include_colab_link": true
    },
    "kernelspec": {
      "name": "python3",
      "display_name": "Python 3"
    },
    "accelerator": "GPU"
  },
  "cells": [
    {
      "cell_type": "markdown",
      "metadata": {
        "id": "view-in-github",
        "colab_type": "text"
      },
      "source": [
        "<a href=\"https://colab.research.google.com/github/cosmicishan/Image-Classification/blob/master/mnist_sample.ipynb\" target=\"_parent\"><img src=\"https://colab.research.google.com/assets/colab-badge.svg\" alt=\"Open In Colab\"/></a>"
      ]
    },
    {
      "cell_type": "code",
      "metadata": {
        "id": "kvlGIjqpgJM3",
        "colab_type": "code",
        "colab": {}
      },
      "source": [
        "%reload_ext autoreload\n",
        "%autoreload 2\n",
        "%matplotlib inline"
      ],
      "execution_count": 0,
      "outputs": []
    },
    {
      "cell_type": "code",
      "metadata": {
        "id": "-fHDR57uj8Ch",
        "colab_type": "code",
        "colab": {}
      },
      "source": [
        "from fastai.vision import *\n",
        "from fastai.metrics import error_rate"
      ],
      "execution_count": 0,
      "outputs": []
    },
    {
      "cell_type": "markdown",
      "metadata": {
        "id": "lEfHzUjKzhk9",
        "colab_type": "text"
      },
      "source": [
        "Getting a link of mnist_sample dataset."
      ]
    },
    {
      "cell_type": "code",
      "metadata": {
        "id": "6RamJ5t4j-3e",
        "colab_type": "code",
        "outputId": "1f318c3c-2547-4d71-9044-49dc7883ff30",
        "colab": {
          "base_uri": "https://localhost:8080/",
          "height": 34
        }
      },
      "source": [
        "URLs.MNIST_SAMPLE"
      ],
      "execution_count": 3,
      "outputs": [
        {
          "output_type": "execute_result",
          "data": {
            "text/plain": [
              "'http://files.fast.ai/data/examples/mnist_sample'"
            ]
          },
          "metadata": {
            "tags": []
          },
          "execution_count": 3
        }
      ]
    },
    {
      "cell_type": "markdown",
      "metadata": {
        "id": "8IKGjNu-zoce",
        "colab_type": "text"
      },
      "source": [
        "untar_data will download the dataset, store it in a path and return the path which we stored in a variable."
      ]
    },
    {
      "cell_type": "code",
      "metadata": {
        "id": "hYLEXAIPkKtq",
        "colab_type": "code",
        "outputId": "39d8ce35-dca3-4211-8511-82badd3d2589",
        "colab": {
          "base_uri": "https://localhost:8080/",
          "height": 50
        }
      },
      "source": [
        "path = untar_data(URLs.MNIST_SAMPLE) ; path"
      ],
      "execution_count": 4,
      "outputs": [
        {
          "output_type": "stream",
          "text": [
            "Downloading http://files.fast.ai/data/examples/mnist_sample\n"
          ],
          "name": "stdout"
        },
        {
          "output_type": "display_data",
          "data": {
            "text/html": [
              ""
            ],
            "text/plain": [
              "<IPython.core.display.HTML object>"
            ]
          },
          "metadata": {
            "tags": []
          }
        },
        {
          "output_type": "execute_result",
          "data": {
            "text/plain": [
              "PosixPath('/root/.fastai/data/mnist_sample')"
            ]
          },
          "metadata": {
            "tags": []
          },
          "execution_count": 4
        }
      ]
    },
    {
      "cell_type": "markdown",
      "metadata": {
        "id": "tgZ8XjmrzzPY",
        "colab_type": "text"
      },
      "source": [
        "Checking the content of path."
      ]
    },
    {
      "cell_type": "code",
      "metadata": {
        "id": "HgbdJ20PkNMb",
        "colab_type": "code",
        "outputId": "d3f20d10-3af7-4d65-fdb2-9faa67500fe4",
        "colab": {
          "base_uri": "https://localhost:8080/",
          "height": 67
        }
      },
      "source": [
        "path.ls()"
      ],
      "execution_count": 5,
      "outputs": [
        {
          "output_type": "execute_result",
          "data": {
            "text/plain": [
              "[PosixPath('/root/.fastai/data/mnist_sample/labels.csv'),\n",
              " PosixPath('/root/.fastai/data/mnist_sample/valid'),\n",
              " PosixPath('/root/.fastai/data/mnist_sample/train')]"
            ]
          },
          "metadata": {
            "tags": []
          },
          "execution_count": 5
        }
      ]
    },
    {
      "cell_type": "markdown",
      "metadata": {
        "id": "7klX23xiz2gR",
        "colab_type": "text"
      },
      "source": [
        "It contains the image in different folder with there label name."
      ]
    },
    {
      "cell_type": "code",
      "metadata": {
        "id": "v5c09N_rkSkh",
        "colab_type": "code",
        "outputId": "46aa4f7c-8d34-4a76-df36-86f2497bd3d9",
        "colab": {
          "base_uri": "https://localhost:8080/",
          "height": 50
        }
      },
      "source": [
        "(path/'train').ls()"
      ],
      "execution_count": 6,
      "outputs": [
        {
          "output_type": "execute_result",
          "data": {
            "text/plain": [
              "[PosixPath('/root/.fastai/data/mnist_sample/train/3'),\n",
              " PosixPath('/root/.fastai/data/mnist_sample/train/7')]"
            ]
          },
          "metadata": {
            "tags": []
          },
          "execution_count": 6
        }
      ]
    },
    {
      "cell_type": "markdown",
      "metadata": {
        "id": "MmWd-PkZ0PM5",
        "colab_type": "text"
      },
      "source": [
        "So I am gonna use ImageDataBunch from folder and normalize it."
      ]
    },
    {
      "cell_type": "code",
      "metadata": {
        "id": "NN5BxGNxyUpR",
        "colab_type": "code",
        "colab": {
          "base_uri": "https://localhost:8080/",
          "height": 302
        },
        "outputId": "428b5292-c7ca-4e3a-cead-1f6e15beb84b"
      },
      "source": [
        "tfms = get_transforms(do_flip = False)\n",
        "data = ImageDataBunch.from_folder(path, ds_tfms=tfms, size=26, bs=64)\n",
        "data.normalize()"
      ],
      "execution_count": 28,
      "outputs": [
        {
          "output_type": "execute_result",
          "data": {
            "text/plain": [
              "ImageDataBunch;\n",
              "\n",
              "Train: LabelList (12396 items)\n",
              "x: ImageList\n",
              "Image (3, 26, 26),Image (3, 26, 26),Image (3, 26, 26),Image (3, 26, 26),Image (3, 26, 26)\n",
              "y: CategoryList\n",
              "3,3,3,3,3\n",
              "Path: /root/.fastai/data/mnist_sample;\n",
              "\n",
              "Valid: LabelList (2038 items)\n",
              "x: ImageList\n",
              "Image (3, 26, 26),Image (3, 26, 26),Image (3, 26, 26),Image (3, 26, 26),Image (3, 26, 26)\n",
              "y: CategoryList\n",
              "3,3,3,3,3\n",
              "Path: /root/.fastai/data/mnist_sample;\n",
              "\n",
              "Test: None"
            ]
          },
          "metadata": {
            "tags": []
          },
          "execution_count": 28
        }
      ]
    },
    {
      "cell_type": "markdown",
      "metadata": {
        "id": "BregjTzs0XTB",
        "colab_type": "text"
      },
      "source": [
        "Checking the batch images."
      ]
    },
    {
      "cell_type": "code",
      "metadata": {
        "id": "J7N3w3T2y0If",
        "colab_type": "code",
        "colab": {
          "base_uri": "https://localhost:8080/",
          "height": 369
        },
        "outputId": "42146937-eb64-4427-8701-05a2f6f7d516"
      },
      "source": [
        "data.show_batch(rows=3, figsize=(5,5))"
      ],
      "execution_count": 29,
      "outputs": [
        {
          "output_type": "display_data",
          "data": {
            "image/png": "[encoded data removed]",
            "text/plain": [
              "<Figure size 360x360 with 9 Axes>"
            ]
          },
          "metadata": {
            "tags": [],
            "needs_background": "light"
          }
        }
      ]
    },
    {
      "cell_type": "markdown",
      "metadata": {
        "id": "f6H0tXe40b3x",
        "colab_type": "text"
      },
      "source": [
        "Checking out the class labels and number of class."
      ]
    },
    {
      "cell_type": "code",
      "metadata": {
        "id": "xQRklzNZzQ4B",
        "colab_type": "code",
        "colab": {
          "base_uri": "https://localhost:8080/",
          "height": 50
        },
        "outputId": "ff4fe00f-92e2-493c-cf71-fbb952a3e1ad"
      },
      "source": [
        "print(data.classes)\n",
        "len(data.classes)"
      ],
      "execution_count": 30,
      "outputs": [
        {
          "output_type": "stream",
          "text": [
            "['3', '7']\n"
          ],
          "name": "stdout"
        },
        {
          "output_type": "execute_result",
          "data": {
            "text/plain": [
              "2"
            ]
          },
          "metadata": {
            "tags": []
          },
          "execution_count": 30
        }
      ]
    },
    {
      "cell_type": "markdown",
      "metadata": {
        "id": "ISfA3Sb50iTz",
        "colab_type": "text"
      },
      "source": [
        "Training the model by fine tuning resnet34 and printing out the error rate."
      ]
    },
    {
      "cell_type": "code",
      "metadata": {
        "id": "9PqAdpU2zTgs",
        "colab_type": "code",
        "colab": {}
      },
      "source": [
        "learn = cnn_learner(data, models.resnet34, metrics=error_rate)"
      ],
      "execution_count": 0,
      "outputs": []
    },
    {
      "cell_type": "markdown",
      "metadata": {
        "id": "8aUggp_a1-mT",
        "colab_type": "text"
      },
      "source": [
        "Training with 4 epochs."
      ]
    },
    {
      "cell_type": "code",
      "metadata": {
        "id": "fDmGWMNvzY8Q",
        "colab_type": "code",
        "colab": {
          "base_uri": "https://localhost:8080/",
          "height": 195
        },
        "outputId": "239fcabf-3de3-4048-ae82-dd5a5f4299dc"
      },
      "source": [
        "learn.fit_one_cycle(5)"
      ],
      "execution_count": 32,
      "outputs": [
        {
          "output_type": "display_data",
          "data": {
            "text/html": [
              "<table border=\"1\" class=\"dataframe\">\n",
              "  <thead>\n",
              "    <tr style=\"text-align: left;\">\n",
              "      <th>epoch</th>\n",
              "      <th>train_loss</th>\n",
              "      <th>valid_loss</th>\n",
              "      <th>error_rate</th>\n",
              "      <th>time</th>\n",
              "    </tr>\n",
              "  </thead>\n",
              "  <tbody>\n",
              "    <tr>\n",
              "      <td>0</td>\n",
              "      <td>0.272266</td>\n",
              "      <td>0.118638</td>\n",
              "      <td>0.039745</td>\n",
              "      <td>00:17</td>\n",
              "    </tr>\n",
              "    <tr>\n",
              "      <td>1</td>\n",
              "      <td>0.140251</td>\n",
              "      <td>0.055359</td>\n",
              "      <td>0.019136</td>\n",
              "      <td>00:17</td>\n",
              "    </tr>\n",
              "    <tr>\n",
              "      <td>2</td>\n",
              "      <td>0.100882</td>\n",
              "      <td>0.048424</td>\n",
              "      <td>0.014720</td>\n",
              "      <td>00:17</td>\n",
              "    </tr>\n",
              "    <tr>\n",
              "      <td>3</td>\n",
              "      <td>0.064369</td>\n",
              "      <td>0.033279</td>\n",
              "      <td>0.012758</td>\n",
              "      <td>00:17</td>\n",
              "    </tr>\n",
              "    <tr>\n",
              "      <td>4</td>\n",
              "      <td>0.064183</td>\n",
              "      <td>0.029919</td>\n",
              "      <td>0.013248</td>\n",
              "      <td>00:17</td>\n",
              "    </tr>\n",
              "  </tbody>\n",
              "</table>"
            ],
            "text/plain": [
              "<IPython.core.display.HTML object>"
            ]
          },
          "metadata": {
            "tags": []
          }
        }
      ]
    },
    {
      "cell_type": "markdown",
      "metadata": {
        "id": "R5UDKMbL6kwu",
        "colab_type": "text"
      },
      "source": [
        "Using from learner factory method we interpret ths mistakes of model and where it gone wronf."
      ]
    },
    {
      "cell_type": "code",
      "metadata": {
        "id": "wCmCshMe6GDU",
        "colab_type": "code",
        "colab": {
          "base_uri": "https://localhost:8080/",
          "height": 17
        },
        "outputId": "acb4268e-4291-473c-9a1b-09ba68e6ace0"
      },
      "source": [
        "interp = ClassificationInterpretation.from_learner(learn)"
      ],
      "execution_count": 33,
      "outputs": [
        {
          "output_type": "display_data",
          "data": {
            "text/html": [
              ""
            ],
            "text/plain": [
              "<IPython.core.display.HTML object>"
            ]
          },
          "metadata": {
            "tags": []
          }
        }
      ]
    },
    {
      "cell_type": "markdown",
      "metadata": {
        "id": "zmFYQfdt6s3_",
        "colab_type": "text"
      },
      "source": [
        "PLotting the top losses."
      ]
    },
    {
      "cell_type": "code",
      "metadata": {
        "id": "5wV790z86Kqr",
        "colab_type": "code",
        "colab": {
          "base_uri": "https://localhost:8080/",
          "height": 708
        },
        "outputId": "02eed667-79a4-464e-f25d-6c02272472ff"
      },
      "source": [
        "interp.plot_top_losses(9, figsize=(15,11))"
      ],
      "execution_count": 34,
      "outputs": [
        {
          "output_type": "display_data",
          "data": {
            "image/png": "[encoded data removed]",
            "text/plain": [
              "<Figure size 1080x792 with 9 Axes>"
            ]
          },
          "metadata": {
            "tags": [],
            "needs_background": "light"
          }
        }
      ]
    },
    {
      "cell_type": "markdown",
      "metadata": {
        "id": "R3dWySRS6veL",
        "colab_type": "text"
      },
      "source": [
        "Plotting confusion matrix for more details."
      ]
    },
    {
      "cell_type": "code",
      "metadata": {
        "id": "JHPXLALU6NSu",
        "colab_type": "code",
        "colab": {
          "base_uri": "https://localhost:8080/",
          "height": 683
        },
        "outputId": "68cd47a8-2c26-4cd2-c978-c95fa8cbf4ca"
      },
      "source": [
        "interp.plot_confusion_matrix(figsize=(15,11) , dpi=60)"
      ],
      "execution_count": 35,
      "outputs": [
        {
          "output_type": "display_data",
          "data": {
            "image/png": "[encoded data removed]",
            "text/plain": [
              "<Figure size 900x660 with 1 Axes>"
            ]
          },
          "metadata": {
            "tags": [],
            "needs_background": "light"
          }
        }
      ]
    },
    {
      "cell_type": "markdown",
      "metadata": {
        "id": "I5-oKESv8ZVN",
        "colab_type": "text"
      },
      "source": [
        "Connect Google Drive to Google Colab notebook."
      ]
    },
    {
      "cell_type": "code",
      "metadata": {
        "id": "vHUs1Vux7yLO",
        "colab_type": "code",
        "colab": {
          "base_uri": "https://localhost:8080/",
          "height": 34
        },
        "outputId": "1dd14f0d-21e2-4842-e5fa-173ab1d51ef0"
      },
      "source": [
        "from google.colab import drive\n",
        "drive.mount('/content/drive/')"
      ],
      "execution_count": 49,
      "outputs": [
        {
          "output_type": "stream",
          "text": [
            "Drive already mounted at /content/drive/; to attempt to forcibly remount, call drive.mount(\"/content/drive/\", force_remount=True).\n"
          ],
          "name": "stdout"
        }
      ]
    },
    {
      "cell_type": "markdown",
      "metadata": {
        "id": "N08a0Ouz8qTA",
        "colab_type": "text"
      },
      "source": [
        "Importing the image from the drive."
      ]
    },
    {
      "cell_type": "code",
      "metadata": {
        "id": "GT5AyVuZ6-LJ",
        "colab_type": "code",
        "colab": {}
      },
      "source": [
        "filename = '/content/drive/My Drive/Picture/number3.png'\n",
        "img = open_image(filename)"
      ],
      "execution_count": 0,
      "outputs": []
    },
    {
      "cell_type": "markdown",
      "metadata": {
        "id": "p8-kIlGy8gfM",
        "colab_type": "text"
      },
      "source": [
        "Trained model will take a picture and predict it."
      ]
    },
    {
      "cell_type": "code",
      "metadata": {
        "id": "5gbHQUP37krI",
        "colab_type": "code",
        "colab": {
          "base_uri": "https://localhost:8080/",
          "height": 34
        },
        "outputId": "432ffdfe-3ba0-409e-f1df-2404e1c061c1"
      },
      "source": [
        "pred = learn.predict(img)\n",
        "print(pred[0])"
      ],
      "execution_count": 51,
      "outputs": [
        {
          "output_type": "stream",
          "text": [
            "3\n"
          ],
          "name": "stdout"
        }
      ]
    }
  ]
}